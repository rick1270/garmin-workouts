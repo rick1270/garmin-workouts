{
 "cells": [
  {
   "cell_type": "code",
   "execution_count": 19,
   "metadata": {},
   "outputs": [
    {
     "data": {
      "text/plain": [
       "Duration(duration='12:12:12')"
      ]
     },
     "execution_count": 19,
     "metadata": {},
     "output_type": "execute_result"
    }
   ],
   "source": [
    "from dataclasses import dataclass\n",
    "\n",
    "\n",
    "@dataclass(frozen=True)\n",
    "class Duration:\n",
    "    duration: str\n",
    "    \n",
    "\n",
    "    \n",
    "\n",
    "    def to_seconds(self):\n",
    "        if self._has_hours():\n",
    "            hours, minutes, seconds = self._tokenize()\n",
    "            return self._to_seconds(seconds, minutes, hours)\n",
    "        elif self._has_minutes():\n",
    "            minutes, seconds = self._tokenize()\n",
    "            return self._to_seconds(seconds, minutes)\n",
    "        elif self._has_seconds():\n",
    "            [seconds] = self._tokenize()\n",
    "            return self._to_seconds(seconds)\n",
    "        else:\n",
    "            raise ValueError(\"Unknown duration %s, expected format HH:MM:SS\" % self.duration)\n",
    "        return to_seconds(self)\n",
    "\n",
    "    \n",
    "    \n",
    "    def _tokenize(self):\n",
    "        return self.duration.split(\":\")\n",
    "\n",
    "    def _has_seconds(self):\n",
    "        return len(self._tokenize()) == 1\n",
    "\n",
    "    def _has_minutes(self):\n",
    "        return len(self._tokenize()) == 2\n",
    "\n",
    "    def _has_hours(self):\n",
    "        return len(self._tokenize()) == 3\n",
    "\n",
    "\n",
    "        \n"
   ]
  },
  {
   "cell_type": "code",
   "execution_count": 22,
   "metadata": {},
   "outputs": [
    {
     "data": {
      "text/plain": [
       "['12', '12', '12']"
      ]
     },
     "execution_count": 22,
     "metadata": {},
     "output_type": "execute_result"
    }
   ],
   "source": [
    "\n",
    "def _tokenize(duration):\n",
    "    return duration.split(\":\")\n",
    "\n",
    "_tokenize(duration =\"12:12:12\")"
   ]
  },
  {
   "cell_type": "code",
   "execution_count": 37,
   "metadata": {},
   "outputs": [
    {
     "data": {
      "text/plain": [
       "[1, 3, 4]"
      ]
     },
     "execution_count": 37,
     "metadata": {},
     "output_type": "execute_result"
    }
   ],
   "source": [
    "## Functional\n",
    "\n",
    "import numpy as np\n",
    "\n",
    "\n",
    "def flatten(xs):\n",
    "    if not xs:\n",
    "        return xs\n",
    "    if isinstance(xs[0], list):\n",
    "        return flatten(xs[0]) + flatten(xs[1:])\n",
    "    return xs[:1] + flatten(xs[1:])\n",
    "\n",
    "\n",
    "\n",
    "def fill(x, n):\n",
    "    return np.full(n, x)\n",
    "\n",
    "\n",
    "\n",
    "def filter_empty(value):\n",
    "    if isinstance(value, list):\n",
    "        return [filter_empty(val) for val in value if not (val is None or val == [] or val == {})]\n",
    "    elif isinstance(value, dict):\n",
    "        return {\n",
    "            key: filter_empty(val)\n",
    "            for key, val in value.items()\n",
    "            if not (val is None or val == [] or val == {})\n",
    "        }\n",
    "    else:\n",
    "        return value\n",
    "\n",
    "\n",
    "def concatenate(x, y):\n",
    "    return np.concatenate((x, y))\n",
    "\n",
    "filter_empty([1,3,4,])"
   ]
  },
  {
   "cell_type": "code",
   "execution_count": null,
   "metadata": {},
   "outputs": [],
   "source": []
  }
 ],
 "metadata": {
  "kernelspec": {
   "display_name": "venv",
   "language": "python",
   "name": "python3"
  },
  "language_info": {
   "codemirror_mode": {
    "name": "ipython",
    "version": 3
   },
   "file_extension": ".py",
   "mimetype": "text/x-python",
   "name": "python",
   "nbconvert_exporter": "python",
   "pygments_lexer": "ipython3",
   "version": "3.9.6"
  },
  "orig_nbformat": 4
 },
 "nbformat": 4,
 "nbformat_minor": 2
}
